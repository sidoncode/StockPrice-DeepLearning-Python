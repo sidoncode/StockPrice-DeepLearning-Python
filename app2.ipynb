{
  "nbformat": 4,
  "nbformat_minor": 0,
  "metadata": {
    "kernelspec": {
      "display_name": "Python 3",
      "language": "python",
      "name": "python3"
    },
    "language_info": {
      "codemirror_mode": {
        "name": "ipython",
        "version": 3
      },
      "file_extension": ".py",
      "mimetype": "text/x-python",
      "name": "python",
      "nbconvert_exporter": "python",
      "pygments_lexer": "ipython3",
      "version": "3.7.0"
    },
    "colab": {
      "name": "app2.ipynb",
      "provenance": []
    }
  },
  "cells": [
    {
      "cell_type": "code",
      "metadata": {
        "id": "y4Oj5Kg15s1Y",
        "colab_type": "code",
        "colab": {}
      },
      "source": [
        "import pandas as pd\n",
        "import numpy as np"
      ],
      "execution_count": 1,
      "outputs": []
    },
    {
      "cell_type": "code",
      "metadata": {
        "id": "2OvbcHm_5s1c",
        "colab_type": "code",
        "colab": {
          "base_uri": "https://localhost:8080/",
          "height": 75
        },
        "outputId": "c32c9f1a-41c3-40c0-d3bd-abfa84884c49"
      },
      "source": [
        "import pandas_datareader as pdr\n",
        "key = \"4412be54f9ecbfe7303a63f224bb63e7d0474e30\""
      ],
      "execution_count": 2,
      "outputs": [
        {
          "output_type": "stream",
          "text": [
            "/usr/local/lib/python3.6/dist-packages/pandas_datareader/compat/__init__.py:7: FutureWarning: pandas.util.testing is deprecated. Use the functions in the public API at pandas.testing instead.\n",
            "  from pandas.util.testing import assert_frame_equal\n"
          ],
          "name": "stderr"
        }
      ]
    },
    {
      "cell_type": "code",
      "metadata": {
        "id": "nCT8fkTf5s1f",
        "colab_type": "code",
        "colab": {}
      },
      "source": [
        "df = pdr.get_data_tiingo('AAPL', api_key=key)\n",
        "df.to_csv('AAPL.csv')\n",
        "df=pd.read_csv('AAPL.csv')"
      ],
      "execution_count": 3,
      "outputs": []
    },
    {
      "cell_type": "code",
      "metadata": {
        "id": "YIb-BHDE5s1i",
        "colab_type": "code",
        "colab": {
          "base_uri": "https://localhost:8080/",
          "height": 206
        },
        "outputId": "9d3ddd43-a3ce-403a-836f-e81555d78b09"
      },
      "source": [
        "df.head()"
      ],
      "execution_count": 4,
      "outputs": [
        {
          "output_type": "execute_result",
          "data": {
            "text/html": [
              "<div>\n",
              "<style scoped>\n",
              "    .dataframe tbody tr th:only-of-type {\n",
              "        vertical-align: middle;\n",
              "    }\n",
              "\n",
              "    .dataframe tbody tr th {\n",
              "        vertical-align: top;\n",
              "    }\n",
              "\n",
              "    .dataframe thead th {\n",
              "        text-align: right;\n",
              "    }\n",
              "</style>\n",
              "<table border=\"1\" class=\"dataframe\">\n",
              "  <thead>\n",
              "    <tr style=\"text-align: right;\">\n",
              "      <th></th>\n",
              "      <th>symbol</th>\n",
              "      <th>date</th>\n",
              "      <th>close</th>\n",
              "      <th>high</th>\n",
              "      <th>low</th>\n",
              "      <th>open</th>\n",
              "      <th>volume</th>\n",
              "      <th>adjClose</th>\n",
              "      <th>adjHigh</th>\n",
              "      <th>adjLow</th>\n",
              "      <th>adjOpen</th>\n",
              "      <th>adjVolume</th>\n",
              "      <th>divCash</th>\n",
              "      <th>splitFactor</th>\n",
              "    </tr>\n",
              "  </thead>\n",
              "  <tbody>\n",
              "    <tr>\n",
              "      <th>0</th>\n",
              "      <td>AAPL</td>\n",
              "      <td>2015-06-29 00:00:00+00:00</td>\n",
              "      <td>124.530</td>\n",
              "      <td>126.47</td>\n",
              "      <td>124.48</td>\n",
              "      <td>125.46</td>\n",
              "      <td>49161427</td>\n",
              "      <td>114.757309</td>\n",
              "      <td>116.545065</td>\n",
              "      <td>114.711233</td>\n",
              "      <td>115.614326</td>\n",
              "      <td>49161427</td>\n",
              "      <td>0.0</td>\n",
              "      <td>1.0</td>\n",
              "    </tr>\n",
              "    <tr>\n",
              "      <th>1</th>\n",
              "      <td>AAPL</td>\n",
              "      <td>2015-06-30 00:00:00+00:00</td>\n",
              "      <td>125.425</td>\n",
              "      <td>126.12</td>\n",
              "      <td>124.86</td>\n",
              "      <td>125.57</td>\n",
              "      <td>44370682</td>\n",
              "      <td>115.582073</td>\n",
              "      <td>116.222531</td>\n",
              "      <td>115.061412</td>\n",
              "      <td>115.715694</td>\n",
              "      <td>44370682</td>\n",
              "      <td>0.0</td>\n",
              "      <td>1.0</td>\n",
              "    </tr>\n",
              "    <tr>\n",
              "      <th>2</th>\n",
              "      <td>AAPL</td>\n",
              "      <td>2015-07-01 00:00:00+00:00</td>\n",
              "      <td>126.600</td>\n",
              "      <td>126.94</td>\n",
              "      <td>125.99</td>\n",
              "      <td>126.90</td>\n",
              "      <td>30238811</td>\n",
              "      <td>116.664863</td>\n",
              "      <td>116.978181</td>\n",
              "      <td>116.102733</td>\n",
              "      <td>116.941320</td>\n",
              "      <td>30238811</td>\n",
              "      <td>0.0</td>\n",
              "      <td>1.0</td>\n",
              "    </tr>\n",
              "    <tr>\n",
              "      <th>3</th>\n",
              "      <td>AAPL</td>\n",
              "      <td>2015-07-02 00:00:00+00:00</td>\n",
              "      <td>126.440</td>\n",
              "      <td>126.69</td>\n",
              "      <td>125.77</td>\n",
              "      <td>126.43</td>\n",
              "      <td>27210952</td>\n",
              "      <td>116.517419</td>\n",
              "      <td>116.747800</td>\n",
              "      <td>115.899998</td>\n",
              "      <td>116.508204</td>\n",
              "      <td>27210952</td>\n",
              "      <td>0.0</td>\n",
              "      <td>1.0</td>\n",
              "    </tr>\n",
              "    <tr>\n",
              "      <th>4</th>\n",
              "      <td>AAPL</td>\n",
              "      <td>2015-07-06 00:00:00+00:00</td>\n",
              "      <td>126.000</td>\n",
              "      <td>126.23</td>\n",
              "      <td>124.85</td>\n",
              "      <td>124.94</td>\n",
              "      <td>28060431</td>\n",
              "      <td>116.111949</td>\n",
              "      <td>116.323899</td>\n",
              "      <td>115.052197</td>\n",
              "      <td>115.135134</td>\n",
              "      <td>28060431</td>\n",
              "      <td>0.0</td>\n",
              "      <td>1.0</td>\n",
              "    </tr>\n",
              "  </tbody>\n",
              "</table>\n",
              "</div>"
            ],
            "text/plain": [
              "  symbol                       date    close  ...  adjVolume  divCash  splitFactor\n",
              "0   AAPL  2015-06-29 00:00:00+00:00  124.530  ...   49161427      0.0          1.0\n",
              "1   AAPL  2015-06-30 00:00:00+00:00  125.425  ...   44370682      0.0          1.0\n",
              "2   AAPL  2015-07-01 00:00:00+00:00  126.600  ...   30238811      0.0          1.0\n",
              "3   AAPL  2015-07-02 00:00:00+00:00  126.440  ...   27210952      0.0          1.0\n",
              "4   AAPL  2015-07-06 00:00:00+00:00  126.000  ...   28060431      0.0          1.0\n",
              "\n",
              "[5 rows x 14 columns]"
            ]
          },
          "metadata": {
            "tags": []
          },
          "execution_count": 4
        }
      ]
    },
    {
      "cell_type": "code",
      "metadata": {
        "id": "jdThRX4y5s1m",
        "colab_type": "code",
        "colab": {
          "base_uri": "https://localhost:8080/",
          "height": 206
        },
        "outputId": "8eb36bc0-b221-44df-cda7-7602506979e3"
      },
      "source": [
        "df.tail()"
      ],
      "execution_count": 5,
      "outputs": [
        {
          "output_type": "execute_result",
          "data": {
            "text/html": [
              "<div>\n",
              "<style scoped>\n",
              "    .dataframe tbody tr th:only-of-type {\n",
              "        vertical-align: middle;\n",
              "    }\n",
              "\n",
              "    .dataframe tbody tr th {\n",
              "        vertical-align: top;\n",
              "    }\n",
              "\n",
              "    .dataframe thead th {\n",
              "        text-align: right;\n",
              "    }\n",
              "</style>\n",
              "<table border=\"1\" class=\"dataframe\">\n",
              "  <thead>\n",
              "    <tr style=\"text-align: right;\">\n",
              "      <th></th>\n",
              "      <th>symbol</th>\n",
              "      <th>date</th>\n",
              "      <th>close</th>\n",
              "      <th>high</th>\n",
              "      <th>low</th>\n",
              "      <th>open</th>\n",
              "      <th>volume</th>\n",
              "      <th>adjClose</th>\n",
              "      <th>adjHigh</th>\n",
              "      <th>adjLow</th>\n",
              "      <th>adjOpen</th>\n",
              "      <th>adjVolume</th>\n",
              "      <th>divCash</th>\n",
              "      <th>splitFactor</th>\n",
              "    </tr>\n",
              "  </thead>\n",
              "  <tbody>\n",
              "    <tr>\n",
              "      <th>1253</th>\n",
              "      <td>AAPL</td>\n",
              "      <td>2020-06-19 00:00:00+00:00</td>\n",
              "      <td>349.72</td>\n",
              "      <td>356.56</td>\n",
              "      <td>345.1500</td>\n",
              "      <td>354.635</td>\n",
              "      <td>66118952</td>\n",
              "      <td>349.72</td>\n",
              "      <td>356.56</td>\n",
              "      <td>345.1500</td>\n",
              "      <td>354.635</td>\n",
              "      <td>66118952</td>\n",
              "      <td>0.0</td>\n",
              "      <td>1.0</td>\n",
              "    </tr>\n",
              "    <tr>\n",
              "      <th>1254</th>\n",
              "      <td>AAPL</td>\n",
              "      <td>2020-06-22 00:00:00+00:00</td>\n",
              "      <td>358.87</td>\n",
              "      <td>359.46</td>\n",
              "      <td>351.1500</td>\n",
              "      <td>351.340</td>\n",
              "      <td>33861316</td>\n",
              "      <td>358.87</td>\n",
              "      <td>359.46</td>\n",
              "      <td>351.1500</td>\n",
              "      <td>351.340</td>\n",
              "      <td>33861316</td>\n",
              "      <td>0.0</td>\n",
              "      <td>1.0</td>\n",
              "    </tr>\n",
              "    <tr>\n",
              "      <th>1255</th>\n",
              "      <td>AAPL</td>\n",
              "      <td>2020-06-23 00:00:00+00:00</td>\n",
              "      <td>366.53</td>\n",
              "      <td>372.38</td>\n",
              "      <td>362.2701</td>\n",
              "      <td>364.000</td>\n",
              "      <td>53038869</td>\n",
              "      <td>366.53</td>\n",
              "      <td>372.38</td>\n",
              "      <td>362.2701</td>\n",
              "      <td>364.000</td>\n",
              "      <td>53038869</td>\n",
              "      <td>0.0</td>\n",
              "      <td>1.0</td>\n",
              "    </tr>\n",
              "    <tr>\n",
              "      <th>1256</th>\n",
              "      <td>AAPL</td>\n",
              "      <td>2020-06-24 00:00:00+00:00</td>\n",
              "      <td>360.06</td>\n",
              "      <td>368.79</td>\n",
              "      <td>358.5200</td>\n",
              "      <td>365.000</td>\n",
              "      <td>48155849</td>\n",
              "      <td>360.06</td>\n",
              "      <td>368.79</td>\n",
              "      <td>358.5200</td>\n",
              "      <td>365.000</td>\n",
              "      <td>48155849</td>\n",
              "      <td>0.0</td>\n",
              "      <td>1.0</td>\n",
              "    </tr>\n",
              "    <tr>\n",
              "      <th>1257</th>\n",
              "      <td>AAPL</td>\n",
              "      <td>2020-06-25 00:00:00+00:00</td>\n",
              "      <td>364.84</td>\n",
              "      <td>365.00</td>\n",
              "      <td>357.5700</td>\n",
              "      <td>360.700</td>\n",
              "      <td>34380628</td>\n",
              "      <td>364.84</td>\n",
              "      <td>365.00</td>\n",
              "      <td>357.5700</td>\n",
              "      <td>360.700</td>\n",
              "      <td>34380628</td>\n",
              "      <td>0.0</td>\n",
              "      <td>1.0</td>\n",
              "    </tr>\n",
              "  </tbody>\n",
              "</table>\n",
              "</div>"
            ],
            "text/plain": [
              "     symbol                       date   close  ...  adjVolume  divCash  splitFactor\n",
              "1253   AAPL  2020-06-19 00:00:00+00:00  349.72  ...   66118952      0.0          1.0\n",
              "1254   AAPL  2020-06-22 00:00:00+00:00  358.87  ...   33861316      0.0          1.0\n",
              "1255   AAPL  2020-06-23 00:00:00+00:00  366.53  ...   53038869      0.0          1.0\n",
              "1256   AAPL  2020-06-24 00:00:00+00:00  360.06  ...   48155849      0.0          1.0\n",
              "1257   AAPL  2020-06-25 00:00:00+00:00  364.84  ...   34380628      0.0          1.0\n",
              "\n",
              "[5 rows x 14 columns]"
            ]
          },
          "metadata": {
            "tags": []
          },
          "execution_count": 5
        }
      ]
    },
    {
      "cell_type": "code",
      "metadata": {
        "id": "OEMDKyXR5s1p",
        "colab_type": "code",
        "colab": {
          "base_uri": "https://localhost:8080/",
          "height": 81
        },
        "outputId": "53f974ad-c815-4974-ea06-fd81d3318b25"
      },
      "source": [
        "df.head(1)"
      ],
      "execution_count": 6,
      "outputs": [
        {
          "output_type": "execute_result",
          "data": {
            "text/html": [
              "<div>\n",
              "<style scoped>\n",
              "    .dataframe tbody tr th:only-of-type {\n",
              "        vertical-align: middle;\n",
              "    }\n",
              "\n",
              "    .dataframe tbody tr th {\n",
              "        vertical-align: top;\n",
              "    }\n",
              "\n",
              "    .dataframe thead th {\n",
              "        text-align: right;\n",
              "    }\n",
              "</style>\n",
              "<table border=\"1\" class=\"dataframe\">\n",
              "  <thead>\n",
              "    <tr style=\"text-align: right;\">\n",
              "      <th></th>\n",
              "      <th>symbol</th>\n",
              "      <th>date</th>\n",
              "      <th>close</th>\n",
              "      <th>high</th>\n",
              "      <th>low</th>\n",
              "      <th>open</th>\n",
              "      <th>volume</th>\n",
              "      <th>adjClose</th>\n",
              "      <th>adjHigh</th>\n",
              "      <th>adjLow</th>\n",
              "      <th>adjOpen</th>\n",
              "      <th>adjVolume</th>\n",
              "      <th>divCash</th>\n",
              "      <th>splitFactor</th>\n",
              "    </tr>\n",
              "  </thead>\n",
              "  <tbody>\n",
              "    <tr>\n",
              "      <th>0</th>\n",
              "      <td>AAPL</td>\n",
              "      <td>2015-06-29 00:00:00+00:00</td>\n",
              "      <td>124.53</td>\n",
              "      <td>126.47</td>\n",
              "      <td>124.48</td>\n",
              "      <td>125.46</td>\n",
              "      <td>49161427</td>\n",
              "      <td>114.757309</td>\n",
              "      <td>116.545065</td>\n",
              "      <td>114.711233</td>\n",
              "      <td>115.614326</td>\n",
              "      <td>49161427</td>\n",
              "      <td>0.0</td>\n",
              "      <td>1.0</td>\n",
              "    </tr>\n",
              "  </tbody>\n",
              "</table>\n",
              "</div>"
            ],
            "text/plain": [
              "  symbol                       date   close  ...  adjVolume  divCash  splitFactor\n",
              "0   AAPL  2015-06-29 00:00:00+00:00  124.53  ...   49161427      0.0          1.0\n",
              "\n",
              "[1 rows x 14 columns]"
            ]
          },
          "metadata": {
            "tags": []
          },
          "execution_count": 6
        }
      ]
    },
    {
      "cell_type": "code",
      "metadata": {
        "id": "WvaGeAd65s1s",
        "colab_type": "code",
        "colab": {
          "base_uri": "https://localhost:8080/",
          "height": 424
        },
        "outputId": "a255aeeb-8d64-4492-b798-2002d0eaf486"
      },
      "source": [
        "df.tail(100)"
      ],
      "execution_count": 7,
      "outputs": [
        {
          "output_type": "execute_result",
          "data": {
            "text/html": [
              "<div>\n",
              "<style scoped>\n",
              "    .dataframe tbody tr th:only-of-type {\n",
              "        vertical-align: middle;\n",
              "    }\n",
              "\n",
              "    .dataframe tbody tr th {\n",
              "        vertical-align: top;\n",
              "    }\n",
              "\n",
              "    .dataframe thead th {\n",
              "        text-align: right;\n",
              "    }\n",
              "</style>\n",
              "<table border=\"1\" class=\"dataframe\">\n",
              "  <thead>\n",
              "    <tr style=\"text-align: right;\">\n",
              "      <th></th>\n",
              "      <th>symbol</th>\n",
              "      <th>date</th>\n",
              "      <th>close</th>\n",
              "      <th>high</th>\n",
              "      <th>low</th>\n",
              "      <th>open</th>\n",
              "      <th>volume</th>\n",
              "      <th>adjClose</th>\n",
              "      <th>adjHigh</th>\n",
              "      <th>adjLow</th>\n",
              "      <th>adjOpen</th>\n",
              "      <th>adjVolume</th>\n",
              "      <th>divCash</th>\n",
              "      <th>splitFactor</th>\n",
              "    </tr>\n",
              "  </thead>\n",
              "  <tbody>\n",
              "    <tr>\n",
              "      <th>1158</th>\n",
              "      <td>AAPL</td>\n",
              "      <td>2020-02-04 00:00:00+00:00</td>\n",
              "      <td>318.85</td>\n",
              "      <td>319.64</td>\n",
              "      <td>313.6345</td>\n",
              "      <td>315.310</td>\n",
              "      <td>34154134</td>\n",
              "      <td>317.245866</td>\n",
              "      <td>318.031891</td>\n",
              "      <td>312.056605</td>\n",
              "      <td>313.723676</td>\n",
              "      <td>34154134</td>\n",
              "      <td>0.00</td>\n",
              "      <td>1.0</td>\n",
              "    </tr>\n",
              "    <tr>\n",
              "      <th>1159</th>\n",
              "      <td>AAPL</td>\n",
              "      <td>2020-02-05 00:00:00+00:00</td>\n",
              "      <td>321.45</td>\n",
              "      <td>324.76</td>\n",
              "      <td>318.9500</td>\n",
              "      <td>323.520</td>\n",
              "      <td>29706718</td>\n",
              "      <td>319.832785</td>\n",
              "      <td>323.126133</td>\n",
              "      <td>317.345363</td>\n",
              "      <td>321.892371</td>\n",
              "      <td>29706718</td>\n",
              "      <td>0.00</td>\n",
              "      <td>1.0</td>\n",
              "    </tr>\n",
              "    <tr>\n",
              "      <th>1160</th>\n",
              "      <td>AAPL</td>\n",
              "      <td>2020-02-06 00:00:00+00:00</td>\n",
              "      <td>325.21</td>\n",
              "      <td>325.22</td>\n",
              "      <td>320.2648</td>\n",
              "      <td>322.570</td>\n",
              "      <td>26356385</td>\n",
              "      <td>323.573869</td>\n",
              "      <td>323.583818</td>\n",
              "      <td>318.653548</td>\n",
              "      <td>320.947150</td>\n",
              "      <td>26356385</td>\n",
              "      <td>0.00</td>\n",
              "      <td>1.0</td>\n",
              "    </tr>\n",
              "    <tr>\n",
              "      <th>1161</th>\n",
              "      <td>AAPL</td>\n",
              "      <td>2020-02-07 00:00:00+00:00</td>\n",
              "      <td>320.03</td>\n",
              "      <td>323.40</td>\n",
              "      <td>318.0000</td>\n",
              "      <td>322.370</td>\n",
              "      <td>29421012</td>\n",
              "      <td>319.186055</td>\n",
              "      <td>322.547168</td>\n",
              "      <td>317.161409</td>\n",
              "      <td>321.519885</td>\n",
              "      <td>29421012</td>\n",
              "      <td>0.77</td>\n",
              "      <td>1.0</td>\n",
              "    </tr>\n",
              "    <tr>\n",
              "      <th>1162</th>\n",
              "      <td>AAPL</td>\n",
              "      <td>2020-02-10 00:00:00+00:00</td>\n",
              "      <td>321.55</td>\n",
              "      <td>321.55</td>\n",
              "      <td>313.8500</td>\n",
              "      <td>314.180</td>\n",
              "      <td>27337215</td>\n",
              "      <td>320.702047</td>\n",
              "      <td>320.702047</td>\n",
              "      <td>313.022352</td>\n",
              "      <td>313.351482</td>\n",
              "      <td>27337215</td>\n",
              "      <td>0.00</td>\n",
              "      <td>1.0</td>\n",
              "    </tr>\n",
              "    <tr>\n",
              "      <th>...</th>\n",
              "      <td>...</td>\n",
              "      <td>...</td>\n",
              "      <td>...</td>\n",
              "      <td>...</td>\n",
              "      <td>...</td>\n",
              "      <td>...</td>\n",
              "      <td>...</td>\n",
              "      <td>...</td>\n",
              "      <td>...</td>\n",
              "      <td>...</td>\n",
              "      <td>...</td>\n",
              "      <td>...</td>\n",
              "      <td>...</td>\n",
              "      <td>...</td>\n",
              "    </tr>\n",
              "    <tr>\n",
              "      <th>1253</th>\n",
              "      <td>AAPL</td>\n",
              "      <td>2020-06-19 00:00:00+00:00</td>\n",
              "      <td>349.72</td>\n",
              "      <td>356.56</td>\n",
              "      <td>345.1500</td>\n",
              "      <td>354.635</td>\n",
              "      <td>66118952</td>\n",
              "      <td>349.720000</td>\n",
              "      <td>356.560000</td>\n",
              "      <td>345.150000</td>\n",
              "      <td>354.635000</td>\n",
              "      <td>66118952</td>\n",
              "      <td>0.00</td>\n",
              "      <td>1.0</td>\n",
              "    </tr>\n",
              "    <tr>\n",
              "      <th>1254</th>\n",
              "      <td>AAPL</td>\n",
              "      <td>2020-06-22 00:00:00+00:00</td>\n",
              "      <td>358.87</td>\n",
              "      <td>359.46</td>\n",
              "      <td>351.1500</td>\n",
              "      <td>351.340</td>\n",
              "      <td>33861316</td>\n",
              "      <td>358.870000</td>\n",
              "      <td>359.460000</td>\n",
              "      <td>351.150000</td>\n",
              "      <td>351.340000</td>\n",
              "      <td>33861316</td>\n",
              "      <td>0.00</td>\n",
              "      <td>1.0</td>\n",
              "    </tr>\n",
              "    <tr>\n",
              "      <th>1255</th>\n",
              "      <td>AAPL</td>\n",
              "      <td>2020-06-23 00:00:00+00:00</td>\n",
              "      <td>366.53</td>\n",
              "      <td>372.38</td>\n",
              "      <td>362.2701</td>\n",
              "      <td>364.000</td>\n",
              "      <td>53038869</td>\n",
              "      <td>366.530000</td>\n",
              "      <td>372.380000</td>\n",
              "      <td>362.270100</td>\n",
              "      <td>364.000000</td>\n",
              "      <td>53038869</td>\n",
              "      <td>0.00</td>\n",
              "      <td>1.0</td>\n",
              "    </tr>\n",
              "    <tr>\n",
              "      <th>1256</th>\n",
              "      <td>AAPL</td>\n",
              "      <td>2020-06-24 00:00:00+00:00</td>\n",
              "      <td>360.06</td>\n",
              "      <td>368.79</td>\n",
              "      <td>358.5200</td>\n",
              "      <td>365.000</td>\n",
              "      <td>48155849</td>\n",
              "      <td>360.060000</td>\n",
              "      <td>368.790000</td>\n",
              "      <td>358.520000</td>\n",
              "      <td>365.000000</td>\n",
              "      <td>48155849</td>\n",
              "      <td>0.00</td>\n",
              "      <td>1.0</td>\n",
              "    </tr>\n",
              "    <tr>\n",
              "      <th>1257</th>\n",
              "      <td>AAPL</td>\n",
              "      <td>2020-06-25 00:00:00+00:00</td>\n",
              "      <td>364.84</td>\n",
              "      <td>365.00</td>\n",
              "      <td>357.5700</td>\n",
              "      <td>360.700</td>\n",
              "      <td>34380628</td>\n",
              "      <td>364.840000</td>\n",
              "      <td>365.000000</td>\n",
              "      <td>357.570000</td>\n",
              "      <td>360.700000</td>\n",
              "      <td>34380628</td>\n",
              "      <td>0.00</td>\n",
              "      <td>1.0</td>\n",
              "    </tr>\n",
              "  </tbody>\n",
              "</table>\n",
              "<p>100 rows × 14 columns</p>\n",
              "</div>"
            ],
            "text/plain": [
              "     symbol                       date   close  ...  adjVolume  divCash  splitFactor\n",
              "1158   AAPL  2020-02-04 00:00:00+00:00  318.85  ...   34154134     0.00          1.0\n",
              "1159   AAPL  2020-02-05 00:00:00+00:00  321.45  ...   29706718     0.00          1.0\n",
              "1160   AAPL  2020-02-06 00:00:00+00:00  325.21  ...   26356385     0.00          1.0\n",
              "1161   AAPL  2020-02-07 00:00:00+00:00  320.03  ...   29421012     0.77          1.0\n",
              "1162   AAPL  2020-02-10 00:00:00+00:00  321.55  ...   27337215     0.00          1.0\n",
              "...     ...                        ...     ...  ...        ...      ...          ...\n",
              "1253   AAPL  2020-06-19 00:00:00+00:00  349.72  ...   66118952     0.00          1.0\n",
              "1254   AAPL  2020-06-22 00:00:00+00:00  358.87  ...   33861316     0.00          1.0\n",
              "1255   AAPL  2020-06-23 00:00:00+00:00  366.53  ...   53038869     0.00          1.0\n",
              "1256   AAPL  2020-06-24 00:00:00+00:00  360.06  ...   48155849     0.00          1.0\n",
              "1257   AAPL  2020-06-25 00:00:00+00:00  364.84  ...   34380628     0.00          1.0\n",
              "\n",
              "[100 rows x 14 columns]"
            ]
          },
          "metadata": {
            "tags": []
          },
          "execution_count": 7
        }
      ]
    },
    {
      "cell_type": "code",
      "metadata": {
        "id": "ao5mu4EZ5s1v",
        "colab_type": "code",
        "colab": {}
      },
      "source": [
        "df1=df.reset_index()['close']"
      ],
      "execution_count": 8,
      "outputs": []
    },
    {
      "cell_type": "code",
      "metadata": {
        "id": "aKiUTDNu5s1x",
        "colab_type": "code",
        "colab": {
          "base_uri": "https://localhost:8080/",
          "height": 243
        },
        "outputId": "8d6d458d-8730-403f-c276-bd87b8b4851c"
      },
      "source": [
        "df1"
      ],
      "execution_count": 9,
      "outputs": [
        {
          "output_type": "execute_result",
          "data": {
            "text/plain": [
              "0       124.530\n",
              "1       125.425\n",
              "2       126.600\n",
              "3       126.440\n",
              "4       126.000\n",
              "         ...   \n",
              "1253    349.720\n",
              "1254    358.870\n",
              "1255    366.530\n",
              "1256    360.060\n",
              "1257    364.840\n",
              "Name: close, Length: 1258, dtype: float64"
            ]
          },
          "metadata": {
            "tags": []
          },
          "execution_count": 9
        }
      ]
    },
    {
      "cell_type": "code",
      "metadata": {
        "id": "Eskz4qVf5s10",
        "colab_type": "code",
        "colab": {
          "base_uri": "https://localhost:8080/",
          "height": 284
        },
        "outputId": "7e922849-e245-4f4b-f86b-63debf3d661a"
      },
      "source": [
        "import matplotlib.pyplot as plt\n",
        "plt.plot(df1)"
      ],
      "execution_count": 10,
      "outputs": [
        {
          "output_type": "execute_result",
          "data": {
            "text/plain": [
              "[<matplotlib.lines.Line2D at 0x7ff902c12b00>]"
            ]
          },
          "metadata": {
            "tags": []
          },
          "execution_count": 10
        },
        {
          "output_type": "display_data",
          "data": {
            "image/png": "[encoded data removed]",
            "text/plain": [
              "<Figure size 432x288 with 1 Axes>"
            ]
          },
          "metadata": {
            "tags": [],
            "needs_background": "light"
          }
        }
      ]
    },
    {
      "cell_type": "code",
      "metadata": {
        "id": "bjOQKvA65s13",
        "colab_type": "code",
        "colab": {
          "base_uri": "https://localhost:8080/",
          "height": 149
        },
        "outputId": "c84478ab-436e-485b-c8dc-4a43b61554fd"
      },
      "source": [
        "from sklearn.preprocessing import MinMaxScaler\n",
        "scaler=MinMaxScaler(feature_range=(0,1))\n",
        "df1=scaler.fit_transform(np.array(df1).reshape(-1,1))\n",
        "print(df1)"
      ],
      "execution_count": 11,
      "outputs": [
        {
          "output_type": "stream",
          "text": [
            "[[0.12379159]\n",
            " [0.12703212]\n",
            " [0.13128643]\n",
            " ...\n",
            " [1.        ]\n",
            " [0.9765741 ]\n",
            " [0.99388102]]\n"
          ],
          "name": "stdout"
        }
      ]
    },
    {
      "cell_type": "code",
      "metadata": {
        "id": "s7Tprygr5s15",
        "colab_type": "code",
        "colab": {}
      },
      "source": [
        "training_size=int(len(df1)*0.65)\n",
        "test_size=len(df1)-training_size\n",
        "train_data,test_data=df1[0:training_size,:],df1[training_size:len(df1),:1]"
      ],
      "execution_count": 12,
      "outputs": []
    },
    {
      "cell_type": "code",
      "metadata": {
        "id": "t5Cl6iLW5s18",
        "colab_type": "code",
        "colab": {
          "base_uri": "https://localhost:8080/",
          "height": 36
        },
        "outputId": "317e200c-2513-4c92-f0a0-5cb4534bb2e4"
      },
      "source": [
        "training_size"
      ],
      "execution_count": 13,
      "outputs": [
        {
          "output_type": "execute_result",
          "data": {
            "text/plain": [
              "817"
            ]
          },
          "metadata": {
            "tags": []
          },
          "execution_count": 13
        }
      ]
    },
    {
      "cell_type": "code",
      "metadata": {
        "id": "X7GsAmVh5s1-",
        "colab_type": "code",
        "colab": {
          "base_uri": "https://localhost:8080/",
          "height": 36
        },
        "outputId": "71480e45-da25-4c7a-9980-6e0030cf3a7b"
      },
      "source": [
        "test_size"
      ],
      "execution_count": 14,
      "outputs": [
        {
          "output_type": "execute_result",
          "data": {
            "text/plain": [
              "441"
            ]
          },
          "metadata": {
            "tags": []
          },
          "execution_count": 14
        }
      ]
    },
    {
      "cell_type": "code",
      "metadata": {
        "id": "0fzsOa4g5s2B",
        "colab_type": "code",
        "colab": {
          "base_uri": "https://localhost:8080/",
          "height": 1000
        },
        "outputId": "6aad578f-1027-46a6-e42e-b344d65859dc"
      },
      "source": [
        "train_data"
      ],
      "execution_count": 15,
      "outputs": [
        {
          "output_type": "execute_result",
          "data": {
            "text/plain": [
              "array([[0.12379159],\n",
              "       [0.12703212],\n",
              "       [0.13128643],\n",
              "       [0.13070712],\n",
              "       [0.12911402],\n",
              "       [0.1279916 ],\n",
              "       [0.11669503],\n",
              "       [0.10764329],\n",
              "       [0.11926572],\n",
              "       [0.12788298],\n",
              "       [0.12770194],\n",
              "       [0.13208299],\n",
              "       [0.13820196],\n",
              "       [0.14222093],\n",
              "       [0.15109164],\n",
              "       [0.14631232],\n",
              "       [0.12628987],\n",
              "       [0.12607263],\n",
              "       [0.12368297],\n",
              "       [0.11741917],\n",
              "       [0.11962779],\n",
              "       [0.11821572],\n",
              "       [0.11597089],\n",
              "       [0.11209674],\n",
              "       [0.10174155],\n",
              "       [0.08798291],\n",
              "       [0.09073464],\n",
              "       [0.08975705],\n",
              "       [0.09116912],\n",
              "       [0.10637605],\n",
              "       [0.08381911],\n",
              "       [0.09015533],\n",
              "       [0.08982947],\n",
              "       [0.09276223],\n",
              "       [0.09710706],\n",
              "       [0.0947174 ],\n",
              "       [0.08932257],\n",
              "       [0.08077773],\n",
              "       [0.05583113],\n",
              "       [0.04627249],\n",
              "       [0.04851733],\n",
              "       [0.07006047],\n",
              "       [0.08175531],\n",
              "       [0.08309497],\n",
              "       [0.081176  ],\n",
              "       [0.06292769],\n",
              "       [0.07965531],\n",
              "       [0.07252254],\n",
              "       [0.06853977],\n",
              "       [0.07954669],\n",
              "       [0.07172599],\n",
              "       [0.08048807],\n",
              "       [0.08642601],\n",
              "       [0.09040878],\n",
              "       [0.09392085],\n",
              "       [0.09439154],\n",
              "       [0.08537601],\n",
              "       [0.08367428],\n",
              "       [0.09004671],\n",
              "       [0.08349325],\n",
              "       [0.08682429],\n",
              "       [0.08928636],\n",
              "       [0.08823636],\n",
              "       [0.08001738],\n",
              "       [0.06777943],\n",
              "       [0.07226909],\n",
              "       [0.06966219],\n",
              "       [0.07255875],\n",
              "       [0.07400702],\n",
              "       [0.07592599],\n",
              "       [0.07400702],\n",
              "       [0.06937253],\n",
              "       [0.07885876],\n",
              "       [0.07697599],\n",
              "       [0.07766393],\n",
              "       [0.07194323],\n",
              "       [0.07791738],\n",
              "       [0.07494841],\n",
              "       [0.07744669],\n",
              "       [0.0848329 ],\n",
              "       [0.0847967 ],\n",
              "       [0.09109671],\n",
              "       [0.1040588 ],\n",
              "       [0.09030016],\n",
              "       [0.08765705],\n",
              "       [0.10474673],\n",
              "       [0.10930881],\n",
              "       [0.10557949],\n",
              "       [0.11166226],\n",
              "       [0.11669503],\n",
              "       [0.11463123],\n",
              "       [0.11072088],\n",
              "       [0.11122778],\n",
              "       [0.10945364],\n",
              "       [0.09569499],\n",
              "       [0.09330533],\n",
              "       [0.09189326],\n",
              "       [0.07965531],\n",
              "       [0.08629929],\n",
              "       [0.08454325],\n",
              "       [0.09757775],\n",
              "       [0.10297259],\n",
              "       [0.10485535],\n",
              "       [0.09924327],\n",
              "       [0.10333466],\n",
              "       [0.10025707],\n",
              "       [0.09946052],\n",
              "       [0.10123466],\n",
              "       [0.09775879],\n",
              "       [0.09392085],\n",
              "       [0.0900105 ],\n",
              "       [0.10387777],\n",
              "       [0.10116224],\n",
              "       [0.10098121],\n",
              "       [0.09153119],\n",
              "       [0.09352258],\n",
              "       [0.08269669],\n",
              "       [0.08016221],\n",
              "       [0.07295702],\n",
              "       [0.07603461],\n",
              "       [0.06748977],\n",
              "       [0.05680872],\n",
              "       [0.06151562],\n",
              "       [0.06115355],\n",
              "       [0.06615011],\n",
              "       [0.06405011],\n",
              "       [0.05966907],\n",
              "       [0.0666208 ],\n",
              "       [0.06147942],\n",
              "       [0.05402078],\n",
              "       [0.05434665],\n",
              "       [0.04478801],\n",
              "       [0.03751041],\n",
              "       [0.02212245],\n",
              "       [0.02396901],\n",
              "       [0.0296535 ],\n",
              "       [0.03483109],\n",
              "       [0.02552591],\n",
              "       [0.03323799],\n",
              "       [0.02458453],\n",
              "       [0.0228828 ],\n",
              "       [0.02335349],\n",
              "       [0.02157935],\n",
              "       [0.04011731],\n",
              "       [0.03294833],\n",
              "       [0.03493972],\n",
              "       [0.01115174],\n",
              "       [0.01357761],\n",
              "       [0.02534487],\n",
              "       [0.02205004],\n",
              "       [0.01498968],\n",
              "       [0.02176038],\n",
              "       [0.02266556],\n",
              "       [0.01332416],\n",
              "       [0.01690865],\n",
              "       [0.01683624],\n",
              "       [0.01422933],\n",
              "       [0.01216554],\n",
              "       [0.01321554],\n",
              "       [0.02281038],\n",
              "       [0.02816901],\n",
              "       [0.02143452],\n",
              "       [0.02063797],\n",
              "       [0.02367935],\n",
              "       [0.01575003],\n",
              "       [0.02085521],\n",
              "       [0.02324487],\n",
              "       [0.02378797],\n",
              "       [0.02299142],\n",
              "       [0.03689489],\n",
              "       [0.03769144],\n",
              "       [0.04040697],\n",
              "       [0.04587422],\n",
              "       [0.04174662],\n",
              "       [0.03870524],\n",
              "       [0.0390311 ],\n",
              "       [0.03921214],\n",
              "       [0.0431587 ],\n",
              "       [0.04410008],\n",
              "       [0.05155871],\n",
              "       [0.05659148],\n",
              "       [0.05597596],\n",
              "       [0.05641044],\n",
              "       [0.05637424],\n",
              "       [0.059307  ],\n",
              "       [0.05717079],\n",
              "       [0.05550527],\n",
              "       [0.05376733],\n",
              "       [0.06278287],\n",
              "       [0.06958978],\n",
              "       [0.06752598],\n",
              "       [0.07114667],\n",
              "       [0.07523806],\n",
              "       [0.07049495],\n",
              "       [0.07465875],\n",
              "       [0.06589667],\n",
              "       [0.06633115],\n",
              "       [0.0676346 ],\n",
              "       [0.07277599],\n",
              "       [0.0785691 ],\n",
              "       [0.07878634],\n",
              "       [0.07063978],\n",
              "       [0.06205873],\n",
              "       [0.05999493],\n",
              "       [0.06079148],\n",
              "       [0.05659148],\n",
              "       [0.05554148],\n",
              "       [0.05336906],\n",
              "       [0.05072595],\n",
              "       [0.02708281],\n",
              "       [0.01625692],\n",
              "       [0.01231037],\n",
              "       [0.0119483 ],\n",
              "       [0.01752417],\n",
              "       [0.01393968],\n",
              "       [0.01050002],\n",
              "       [0.00861726],\n",
              "       [0.0088707 ],\n",
              "       [0.01115174],\n",
              "       [0.00785691],\n",
              "       [0.        ],\n",
              "       [0.00065173],\n",
              "       [0.01281726],\n",
              "       [0.01140519],\n",
              "       [0.01527934],\n",
              "       [0.01397589],\n",
              "       [0.017669  ],\n",
              "       [0.02205004],\n",
              "       [0.02737246],\n",
              "       [0.03360006],\n",
              "       [0.03646041],\n",
              "       [0.03624317],\n",
              "       [0.03446902],\n",
              "       [0.02940005],\n",
              "       [0.02672074],\n",
              "       [0.02744487],\n",
              "       [0.03001557],\n",
              "       [0.03146385],\n",
              "       [0.03113798],\n",
              "       [0.03370868],\n",
              "       [0.03073971],\n",
              "       [0.02534487],\n",
              "       [0.02577935],\n",
              "       [0.02462073],\n",
              "       [0.02610522],\n",
              "       [0.01806727],\n",
              "       [0.01723451],\n",
              "       [0.02016728],\n",
              "       [0.01886383],\n",
              "       [0.02085521],\n",
              "       [0.01107933],\n",
              "       [0.00615518],\n",
              "       [0.01176726],\n",
              "       [0.01470003],\n",
              "       [0.01904486],\n",
              "       [0.02009486],\n",
              "       [0.01683624],\n",
              "       [0.01879141],\n",
              "       [0.0202759 ],\n",
              "       [0.02295521],\n",
              "       [0.02404142],\n",
              "       [0.02563453],\n",
              "       [0.02364314],\n",
              "       [0.03059488],\n",
              "       [0.03055867],\n",
              "       [0.0343604 ],\n",
              "       [0.03450523],\n",
              "       [0.03483109],\n",
              "       [0.03291213],\n",
              "       [0.03012419],\n",
              "       [0.02534487],\n",
              "       [0.02291901],\n",
              "       [0.04565698],\n",
              "       [0.05068974],\n",
              "       [0.05021905],\n",
              "       [0.05688113],\n",
              "       [0.05119664],\n",
              "       [0.05593975],\n",
              "       [0.05622941],\n",
              "       [0.06205873],\n",
              "       [0.06528115],\n",
              "       [0.06687425],\n",
              "       [0.06394149],\n",
              "       [0.06368804],\n",
              "       [0.06459321],\n",
              "       [0.06930012],\n",
              "       [0.06893805],\n",
              "       [0.06835874],\n",
              "       [0.06785184],\n",
              "       [0.06886564],\n",
              "       [0.06578804],\n",
              "       [0.06701908],\n",
              "       [0.06405011],\n",
              "       [0.06238459],\n",
              "       [0.06010355],\n",
              "       [0.05966907],\n",
              "       [0.0567001 ],\n",
              "       [0.05706217],\n",
              "       [0.05934321],\n",
              "       [0.0629639 ],\n",
              "       [0.06285528],\n",
              "       [0.06524494],\n",
              "       [0.05496216],\n",
              "       [0.0463087 ],\n",
              "       [0.05467251],\n",
              "       [0.06376045],\n",
              "       [0.07759151],\n",
              "       [0.09135016],\n",
              "       [0.08899671],\n",
              "       [0.08414497],\n",
              "       [0.08410877],\n",
              "       [0.08403635],\n",
              "       [0.0879105 ],\n",
              "       [0.08099497],\n",
              "       [0.08161049],\n",
              "       [0.08237083],\n",
              "       [0.08548463],\n",
              "       [0.079076  ],\n",
              "       [0.082226  ],\n",
              "       [0.08030704],\n",
              "       [0.08204497],\n",
              "       [0.082226  ],\n",
              "       [0.08526739],\n",
              "       [0.08588291],\n",
              "       [0.09308809],\n",
              "       [0.09399327],\n",
              "       [0.09775879],\n",
              "       [0.09645534],\n",
              "       [0.09880879],\n",
              "       [0.09851914],\n",
              "       [0.09822948],\n",
              "       [0.09696224],\n",
              "       [0.09674499],\n",
              "       [0.09507947],\n",
              "       [0.0988812 ],\n",
              "       [0.10105362],\n",
              "       [0.09142257],\n",
              "       [0.0874036 ],\n",
              "       [0.08465187],\n",
              "       [0.08400014],\n",
              "       [0.07657772],\n",
              "       [0.07693979],\n",
              "       [0.07056736],\n",
              "       [0.06698287],\n",
              "       [0.07266737],\n",
              "       [0.07502082],\n",
              "       [0.07436909],\n",
              "       [0.06318114],\n",
              "       [0.06549839],\n",
              "       [0.0556501 ],\n",
              "       [0.06071907],\n",
              "       [0.07114667],\n",
              "       [0.07100185],\n",
              "       [0.07140012],\n",
              "       [0.07744669],\n",
              "       [0.07770013],\n",
              "       [0.07563634],\n",
              "       [0.07766393],\n",
              "       [0.07686737],\n",
              "       [0.0764691 ],\n",
              "       [0.07306564],\n",
              "       [0.06933633],\n",
              "       [0.07082081],\n",
              "       [0.06796046],\n",
              "       [0.07100185],\n",
              "       [0.0749122 ],\n",
              "       [0.07885876],\n",
              "       [0.08548463],\n",
              "       [0.08313118],\n",
              "       [0.08997429],\n",
              "       [0.08997429],\n",
              "       [0.09225533],\n",
              "       [0.09279844],\n",
              "       [0.0952243 ],\n",
              "       [0.09634672],\n",
              "       [0.09674499],\n",
              "       [0.09395706],\n",
              "       [0.09478982],\n",
              "       [0.09746913],\n",
              "       [0.09565879],\n",
              "       [0.09555016],\n",
              "       [0.09225533],\n",
              "       [0.09345016],\n",
              "       [0.09297947],\n",
              "       [0.09511568],\n",
              "       [0.09982259],\n",
              "       [0.10373294],\n",
              "       [0.10416742],\n",
              "       [0.10648467],\n",
              "       [0.10467432],\n",
              "       [0.10391397],\n",
              "       [0.10738984],\n",
              "       [0.10735363],\n",
              "       [0.10659329],\n",
              "       [0.10738984],\n",
              "       [0.1076795 ],\n",
              "       [0.10728122],\n",
              "       [0.11419675],\n",
              "       [0.11441399],\n",
              "       [0.1144502 ],\n",
              "       [0.11329157],\n",
              "       [0.11227778],\n",
              "       [0.13907093],\n",
              "       [0.13827438],\n",
              "       [0.14026576],\n",
              "       [0.1446468 ],\n",
              "       [0.14913646],\n",
              "       [0.15098302],\n",
              "       [0.15235888],\n",
              "       [0.15127267],\n",
              "       [0.15550889],\n",
              "       [0.16177269],\n",
              "       [0.16354683],\n",
              "       [0.16294942],\n",
              "       [0.16430718],\n",
              "       [0.16785546],\n",
              "       [0.16933995],\n",
              "       [0.16723994],\n",
              "       [0.16771063],\n",
              "       [0.16868822],\n",
              "       [0.16890546],\n",
              "       [0.17904341],\n",
              "       [0.17603823],\n",
              "       [0.17900721],\n",
              "       [0.1774141 ],\n",
              "       [0.17806582],\n",
              "       [0.17618306],\n",
              "       [0.17502444],\n",
              "       [0.17668996],\n",
              "       [0.1769072 ],\n",
              "       [0.17614686],\n",
              "       [0.18146928],\n",
              "       [0.18230204],\n",
              "       [0.17976755],\n",
              "       [0.18508997],\n",
              "       [0.17922445],\n",
              "       [0.18494515],\n",
              "       [0.1831348 ],\n",
              "       [0.182121  ],\n",
              "       [0.18298997],\n",
              "       [0.1935624 ],\n",
              "       [0.19472103],\n",
              "       [0.19403309],\n",
              "       [0.19305551],\n",
              "       [0.19320033],\n",
              "       [0.19707448],\n",
              "       [0.19435896],\n",
              "       [0.19305551],\n",
              "       [0.19189688],\n",
              "       [0.19128136],\n",
              "       [0.18570549],\n",
              "       [0.18632101],\n",
              "       [0.18360549],\n",
              "       [0.18642963],\n",
              "       [0.18414859],\n",
              "       [0.18226583],\n",
              "       [0.18863826],\n",
              "       [0.18802274],\n",
              "       [0.19298309],\n",
              "       [0.19620551],\n",
              "       [0.19312792],\n",
              "       [0.1935262 ],\n",
              "       [0.1930193 ],\n",
              "       [0.20362794],\n",
              "       [0.20699518],\n",
              "       [0.20536587],\n",
              "       [0.2034469 ],\n",
              "       [0.21224519],\n",
              "       [0.22690901],\n",
              "       [0.23045729],\n",
              "       [0.22781419],\n",
              "       [0.23031247],\n",
              "       [0.23809696],\n",
              "       [0.23664868],\n",
              "       [0.23581592],\n",
              "       [0.21691589],\n",
              "       [0.22520728],\n",
              "       [0.22709005],\n",
              "       [0.23045729],\n",
              "       [0.22976936],\n",
              "       [0.22810384],\n",
              "       [0.23002281],\n",
              "       [0.22908143],\n",
              "       [0.22929867],\n",
              "       [0.22600384],\n",
              "       [0.22752453],\n",
              "       [0.23574351],\n",
              "       [0.23024005],\n",
              "       [0.23212281],\n",
              "       [0.23545385],\n",
              "       [0.23407799],\n",
              "       [0.21231761],\n",
              "       [0.19942793],\n",
              "       [0.20366414],\n",
              "       [0.19848655],\n",
              "       [0.19533654],\n",
              "       [0.18802274],\n",
              "       [0.20275897],\n",
              "       [0.19794344],\n",
              "       [0.20105724],\n",
              "       [0.20018828],\n",
              "       [0.20254173],\n",
              "       [0.20087621],\n",
              "       [0.19330895],\n",
              "       [0.20091242],\n",
              "       [0.19312792],\n",
              "       [0.19435896],\n",
              "       [0.19247619],\n",
              "       [0.1946124 ],\n",
              "       [0.18968826],\n",
              "       [0.19493827],\n",
              "       [0.19812448],\n",
              "       [0.19982621],\n",
              "       [0.20058655],\n",
              "       [0.20793657],\n",
              "       [0.21253485],\n",
              "       [0.21441761],\n",
              "       [0.21630037],\n",
              "       [0.21970383],\n",
              "       [0.21724175],\n",
              "       [0.21698831],\n",
              "       [0.22357797],\n",
              "       [0.22593142],\n",
              "       [0.22853833],\n",
              "       [0.21803831],\n",
              "       [0.21420037],\n",
              "       [0.21141243],\n",
              "       [0.21619175],\n",
              "       [0.24186249],\n",
              "       [0.23617799],\n",
              "       [0.23914696],\n",
              "       [0.24790905],\n",
              "       [0.25250733],\n",
              "       [0.25605561],\n",
              "       [0.23527282],\n",
              "       [0.24309352],\n",
              "       [0.25167457],\n",
              "       [0.25801079],\n",
              "       [0.25565734],\n",
              "       [0.24446939],\n",
              "       [0.24316594],\n",
              "       [0.24211593],\n",
              "       [0.25142112],\n",
              "       [0.25214526],\n",
              "       [0.24957457],\n",
              "       [0.25171078],\n",
              "       [0.2575401 ],\n",
              "       [0.2627539 ],\n",
              "       [0.26434701],\n",
              "       [0.26670046],\n",
              "       [0.26688149],\n",
              "       [0.25974872],\n",
              "       [0.25913321],\n",
              "       [0.25677975],\n",
              "       [0.24725732],\n",
              "       [0.25764872],\n",
              "       [0.25533147],\n",
              "       [0.25095043],\n",
              "       [0.24599008],\n",
              "       [0.25178319],\n",
              "       [0.24740215],\n",
              "       [0.24761939],\n",
              "       [0.23798834],\n",
              "       [0.22828488],\n",
              "       [0.22285383],\n",
              "       [0.2180021 ],\n",
              "       [0.2273797 ],\n",
              "       [0.23132626],\n",
              "       [0.2278866 ],\n",
              "       [0.23092798],\n",
              "       [0.22980557],\n",
              "       [0.23223143],\n",
              "       [0.22861074],\n",
              "       [0.23552627],\n",
              "       [0.23520041],\n",
              "       [0.23715558],\n",
              "       [0.23737282],\n",
              "       [0.23972628],\n",
              "       [0.23773489],\n",
              "       [0.24131938],\n",
              "       [0.25178319],\n",
              "       [0.2539194 ],\n",
              "       [0.25134871],\n",
              "       [0.23766248],\n",
              "       [0.23864007],\n",
              "       [0.23835041],\n",
              "       [0.24171766],\n",
              "       [0.23921938],\n",
              "       [0.24284007],\n",
              "       [0.2632608 ],\n",
              "       [0.27654875],\n",
              "       [0.28494877],\n",
              "       [0.27716427],\n",
              "       [0.28158152],\n",
              "       [0.29747637],\n",
              "       [0.30381259],\n",
              "       [0.30584018],\n",
              "       [0.31101778],\n",
              "       [0.30971433],\n",
              "       [0.30533329],\n",
              "       [0.3027988 ],\n",
              "       [0.29327637],\n",
              "       [0.28509359],\n",
              "       [0.2924074 ],\n",
              "       [0.28896774],\n",
              "       [0.28835222],\n",
              "       [0.29979362],\n",
              "       [0.30638329],\n",
              "       [0.30641949],\n",
              "       [0.30323328],\n",
              "       [0.29954017],\n",
              "       [0.28654187],\n",
              "       [0.29512292],\n",
              "       [0.29222637],\n",
              "       [0.2877005 ],\n",
              "       [0.28712118],\n",
              "       [0.28484015],\n",
              "       [0.28596256],\n",
              "       [0.2861436 ],\n",
              "       [0.29809189],\n",
              "       [0.29457982],\n",
              "       [0.29664361],\n",
              "       [0.29646258],\n",
              "       [0.3027988 ],\n",
              "       [0.3116695 ],\n",
              "       [0.30486259],\n",
              "       [0.30417466],\n",
              "       [0.30656432],\n",
              "       [0.30656432],\n",
              "       [0.29048843],\n",
              "       [0.29059705],\n",
              "       [0.29233499],\n",
              "       [0.2856367 ],\n",
              "       [0.29660741],\n",
              "       [0.29649879],\n",
              "       [0.29939534],\n",
              "       [0.30652811],\n",
              "       [0.30417466],\n",
              "       [0.30410225],\n",
              "       [0.30395742],\n",
              "       [0.30754191],\n",
              "       [0.31409537],\n",
              "       [0.31083674],\n",
              "       [0.32137297],\n",
              "       [0.32195228],\n",
              "       [0.31905572],\n",
              "       [0.31376951],\n",
              "       [0.31391433],\n",
              "       [0.30370397],\n",
              "       [0.29244361],\n",
              "       [0.29389189],\n",
              "       [0.28103842],\n",
              "       [0.27745393],\n",
              "       [0.27911945],\n",
              "       [0.28038669],\n",
              "       [0.25402802],\n",
              "       [0.23950903],\n",
              "       [0.26318838],\n",
              "       [0.25055216],\n",
              "       [0.2346573 ],\n",
              "       [0.23921938],\n",
              "       [0.26202976],\n",
              "       [0.2679315 ],\n",
              "       [0.27890221],\n",
              "       [0.29925052],\n",
              "       [0.29722293],\n",
              "       [0.29512292],\n",
              "       [0.29229878],\n",
              "       [0.29747637],\n",
              "       [0.30833846],\n",
              "       [0.32090228],\n",
              "       [0.31880227],\n",
              "       [0.31782469],\n",
              "       [0.30652811],\n",
              "       [0.31090916],\n",
              "       [0.31311778],\n",
              "       [0.31257468],\n",
              "       [0.30663674],\n",
              "       [0.31355226],\n",
              "       [0.32455918],\n",
              "       [0.33085919],\n",
              "       [0.32452297],\n",
              "       [0.31898331],\n",
              "       [0.31974365],\n",
              "       [0.31746262],\n",
              "       [0.30761432],\n",
              "       [0.30739708],\n",
              "       [0.29302292],\n",
              "       [0.28426083],\n",
              "       [0.27010391],\n",
              "       [0.29845396],\n",
              "       [0.28241428],\n",
              "       [0.27567979],\n",
              "       [0.28038669],\n",
              "       [0.27640392],\n",
              "       [0.28259531],\n",
              "       [0.29425396],\n",
              "       [0.29856258],\n",
              "       [0.28255911],\n",
              "       [0.28860567],\n",
              "       [0.3001919 ],\n",
              "       [0.29725913],\n",
              "       [0.30341432],\n",
              "       [0.30555053],\n",
              "       [0.30949709],\n",
              "       [0.31825917],\n",
              "       [0.31681089],\n",
              "       [0.29856258],\n",
              "       [0.27292806],\n",
              "       [0.27119012],\n",
              "       [0.26286252],\n",
              "       [0.26543322],\n",
              "       [0.26749701],\n",
              "       [0.26061769],\n",
              "       [0.27126254],\n",
              "       [0.28516601],\n",
              "       [0.31221261],\n",
              "       [0.31337123],\n",
              "       [0.33849886],\n",
              "       [0.34331439],\n",
              "       [0.3465368 ],\n",
              "       [0.35127992],\n",
              "       [0.36098338],\n",
              "       [0.35573337],\n",
              "       [0.35414027],\n",
              "       [0.34794888],\n",
              "       [0.35424889],\n",
              "       [0.34994026],\n",
              "       [0.34747819],\n",
              "       [0.3522575 ],\n",
              "       [0.35055578],\n",
              "       [0.35490061],\n",
              "       [0.35414027],\n",
              "       [0.35569716],\n",
              "       [0.35323509],\n",
              "       [0.35178681],\n",
              "       [0.34950578],\n",
              "       [0.36170752],\n",
              "       [0.36746443],\n",
              "       [0.37282306],\n",
              "       [0.37524892],\n",
              "       [0.37336616],\n",
              "       [0.36699374],\n",
              "       [0.36529201],\n",
              "       [0.36909374],\n",
              "       [0.36337304],\n",
              "       [0.36373511],\n",
              "       [0.35663855],\n",
              "       [0.35627648],\n",
              "       [0.34523335],\n",
              "       [0.34816612],\n",
              "       [0.34440059],\n",
              "       [0.34244542],\n",
              "       [0.3324885 ],\n",
              "       [0.34067128],\n",
              "       [0.33969369],\n",
              "       [0.34454542],\n",
              "       [0.34313335],\n",
              "       [0.35062819],\n",
              "       [0.33882472],\n",
              "       [0.34418335],\n",
              "       [0.35348854],\n",
              "       [0.36293856],\n",
              "       [0.3621058 ],\n",
              "       [0.35316268],\n",
              "       [0.36456787],\n",
              "       [0.36565408],\n",
              "       [0.36413339],\n",
              "       [0.36608856],\n",
              "       [0.36228683],\n",
              "       [0.36764546],\n",
              "       [0.36605236],\n",
              "       [0.36666787],\n",
              "       [0.37170064],\n",
              "       [0.37829031],\n",
              "       [0.37608168],\n",
              "       [0.36438684],\n",
              "       [0.36051269],\n",
              "       [0.36188855],\n",
              "       [0.40247656],\n",
              "       [0.42380245],\n",
              "       [0.42597487],\n",
              "       [0.42988522],\n",
              "       [0.42278866],\n",
              "       [0.42329556],\n",
              "       [0.42919729],\n",
              "       [0.42430935],\n",
              "       [0.42916108],\n",
              "       [0.4323473 ],\n",
              "       [0.43412144],\n",
              "       [0.44527318],\n",
              "       [0.46069735],\n",
              "       [0.45302147],\n",
              "       [0.45150078],\n",
              "       [0.45153699],\n",
              "       [0.45313009],\n",
              "       [0.45555596],\n",
              "       [0.4620008 ],\n",
              "       [0.46837322],\n",
              "       [0.4802491 ],\n",
              "       [0.48767153],\n",
              "       [0.49708534],\n",
              "       [0.49972845],\n",
              "       [0.49433361],\n",
              "       [0.48068359],\n",
              "       [0.47416633],\n",
              "       [0.46341287],\n",
              "       [0.48339911],\n",
              "       [0.47333357],\n",
              "       [0.49266809],\n",
              "       [0.4833629 ],\n",
              "       [0.46178355],\n",
              "       [0.46308701],\n",
              "       [0.4635577 ],\n",
              "       [0.46956805],\n",
              "       [0.460987  ],\n",
              "       [0.47231978]])"
            ]
          },
          "metadata": {
            "tags": []
          },
          "execution_count": 15
        }
      ]
    },
    {
      "cell_type": "code",
      "metadata": {
        "id": "RVpCGe_S5s2D",
        "colab_type": "code",
        "colab": {}
      },
      "source": [
        "import numpy\n",
        "# convert array of values into a dataset matrix\n",
        "def create_dataset(dataset, time_step=1):\n",
        "\tdataX, dataY = [], []\n",
        "\tfor i in range(len(dataset)-time_step-1):\n",
        "\t\ta = dataset[i:(i+time_step), 0] \n",
        "\t\tdataX.append(a)\n",
        "\t\tdataY.append(dataset[i + time_step, 0])\n",
        "\treturn numpy.array(dataX), numpy.array(dataY)"
      ],
      "execution_count": 16,
      "outputs": []
    },
    {
      "cell_type": "code",
      "metadata": {
        "id": "a5JAZfU05s2F",
        "colab_type": "code",
        "colab": {}
      },
      "source": [
        "time_step = 100\n",
        "X_train,y_train = create_dataset(train_data,time_step)\n",
        "X_test,y_test = create_dataset(test_data,time_step)"
      ],
      "execution_count": 17,
      "outputs": []
    },
    {
      "cell_type": "code",
      "metadata": {
        "id": "vs0K9dK95s2K",
        "colab_type": "code",
        "colab": {
          "base_uri": "https://localhost:8080/",
          "height": 262
        },
        "outputId": "567ac545-14a8-43fd-b7c2-51efac8f1191"
      },
      "source": [
        "X_train"
      ],
      "execution_count": 18,
      "outputs": [
        {
          "output_type": "execute_result",
          "data": {
            "text/plain": [
              "array([[0.12379159, 0.12703212, 0.13128643, ..., 0.07965531, 0.08629929,\n",
              "        0.08454325],\n",
              "       [0.12703212, 0.13128643, 0.13070712, ..., 0.08629929, 0.08454325,\n",
              "        0.09757775],\n",
              "       [0.13128643, 0.13070712, 0.12911402, ..., 0.08454325, 0.09757775,\n",
              "        0.10297259],\n",
              "       ...,\n",
              "       [0.26061769, 0.27126254, 0.28516601, ..., 0.4833629 , 0.46178355,\n",
              "        0.46308701],\n",
              "       [0.27126254, 0.28516601, 0.31221261, ..., 0.46178355, 0.46308701,\n",
              "        0.4635577 ],\n",
              "       [0.28516601, 0.31221261, 0.31337123, ..., 0.46308701, 0.4635577 ,\n",
              "        0.46956805]])"
            ]
          },
          "metadata": {
            "tags": []
          },
          "execution_count": 18
        }
      ]
    },
    {
      "cell_type": "code",
      "metadata": {
        "id": "LXvkXdHw5s2N",
        "colab_type": "code",
        "colab": {
          "base_uri": "https://localhost:8080/",
          "height": 36
        },
        "outputId": "fae8cf4f-2269-4112-fbe7-8c9c2a33627c"
      },
      "source": [
        "print(X_train.shape)"
      ],
      "execution_count": 19,
      "outputs": [
        {
          "output_type": "stream",
          "text": [
            "(716, 100)\n"
          ],
          "name": "stdout"
        }
      ]
    },
    {
      "cell_type": "code",
      "metadata": {
        "id": "xkWliGLy5s2P",
        "colab_type": "code",
        "colab": {
          "base_uri": "https://localhost:8080/",
          "height": 149
        },
        "outputId": "e6c5f283-0e36-421e-8dde-50904fa1026f"
      },
      "source": [
        "print(X_test)"
      ],
      "execution_count": 20,
      "outputs": [
        {
          "output_type": "stream",
          "text": [
            "[[0.47738875 0.47098012 0.48738187 ... 0.29132119 0.28994533 0.29179188]\n",
            " [0.47098012 0.48738187 0.49024222 ... 0.28994533 0.29179188 0.29577465]\n",
            " [0.48738187 0.49024222 0.49574568 ... 0.29179188 0.29577465 0.29226257]\n",
            " ...\n",
            " [0.84724284 0.84554111 0.79354792 ... 0.9459068  0.9464137  0.9391361 ]\n",
            " [0.84554111 0.79354792 0.79047033 ... 0.9464137  0.9391361  0.97226547]\n",
            " [0.79354792 0.79047033 0.82736522 ... 0.9391361  0.97226547 1.        ]]\n"
          ],
          "name": "stdout"
        }
      ]
    },
    {
      "cell_type": "code",
      "metadata": {
        "id": "lbTcROFf5s2R",
        "colab_type": "code",
        "colab": {
          "base_uri": "https://localhost:8080/",
          "height": 36
        },
        "outputId": "7f1ac0dc-e534-40e4-af25-b2aedc2fe135"
      },
      "source": [
        "print(X_test.shape)"
      ],
      "execution_count": 21,
      "outputs": [
        {
          "output_type": "stream",
          "text": [
            "(340, 100)\n"
          ],
          "name": "stdout"
        }
      ]
    },
    {
      "cell_type": "code",
      "metadata": {
        "id": "g_r2ZLsG5s2U",
        "colab_type": "code",
        "colab": {
          "base_uri": "https://localhost:8080/",
          "height": 36
        },
        "outputId": "6eeb4584-af17-4def-e6e0-9f72562489a7"
      },
      "source": [
        "print(y_test.shape)"
      ],
      "execution_count": 22,
      "outputs": [
        {
          "output_type": "stream",
          "text": [
            "(340,)\n"
          ],
          "name": "stdout"
        }
      ]
    },
    {
      "cell_type": "code",
      "metadata": {
        "id": "8wURFBsF5s2W",
        "colab_type": "code",
        "colab": {
          "base_uri": "https://localhost:8080/",
          "height": 36
        },
        "outputId": "bba882ea-bdb6-4bb5-ef7d-2f7bc57d19e9"
      },
      "source": [
        "print(y_train.shape)"
      ],
      "execution_count": 23,
      "outputs": [
        {
          "output_type": "stream",
          "text": [
            "(716,)\n"
          ],
          "name": "stdout"
        }
      ]
    },
    {
      "cell_type": "code",
      "metadata": {
        "id": "tlKt2Gj85s2Y",
        "colab_type": "code",
        "colab": {}
      },
      "source": [
        "#time_step = 101\n",
        "#X_train,y_train = create_dataset(train_data,time_step)\n",
        "#X_test,y_test = create_dataset(test_data,time_step)"
      ],
      "execution_count": 24,
      "outputs": []
    },
    {
      "cell_type": "code",
      "metadata": {
        "id": "Ociix2ro5s2b",
        "colab_type": "code",
        "colab": {
          "base_uri": "https://localhost:8080/",
          "height": 36
        },
        "outputId": "c9c6f83e-c67b-4c38-8735-5b77709e7fd7"
      },
      "source": [
        "print(X_test.shape)"
      ],
      "execution_count": 25,
      "outputs": [
        {
          "output_type": "stream",
          "text": [
            "(340, 100)\n"
          ],
          "name": "stdout"
        }
      ]
    },
    {
      "cell_type": "code",
      "metadata": {
        "id": "-zj0bihS5s2e",
        "colab_type": "code",
        "colab": {}
      },
      "source": [
        "X_train =X_train.reshape(X_train.shape[0],X_train.shape[1] , 1)\n",
        "X_test = X_test.reshape(X_test.shape[0],X_test.shape[1] , 1)"
      ],
      "execution_count": 26,
      "outputs": []
    },
    {
      "cell_type": "code",
      "metadata": {
        "id": "j3pRUpsF5xwO",
        "colab_type": "code",
        "colab": {}
      },
      "source": [
        "# creating a stack LSTM Model #\n",
        "from tensorflow.keras.layers import LSTM\n",
        "from tensorflow.keras.models import Sequential\n",
        "from tensorflow.keras.layers import Dense"
      ],
      "execution_count": 38,
      "outputs": []
    },
    {
      "cell_type": "code",
      "metadata": {
        "id": "ADnLwJfj5_1x",
        "colab_type": "code",
        "colab": {}
      },
      "source": [
        "import tensorflow as tf"
      ],
      "execution_count": 28,
      "outputs": []
    },
    {
      "cell_type": "code",
      "metadata": {
        "id": "RLyJ37j66AX-",
        "colab_type": "code",
        "colab": {
          "base_uri": "https://localhost:8080/",
          "height": 36
        },
        "outputId": "1b737ac2-b5fe-4727-cbba-193a075aff93"
      },
      "source": [
        "tf.__version__"
      ],
      "execution_count": 29,
      "outputs": [
        {
          "output_type": "execute_result",
          "data": {
            "application/vnd.google.colaboratory.intrinsic": {
              "type": "string"
            },
            "text/plain": [
              "'2.2.0'"
            ]
          },
          "metadata": {
            "tags": []
          },
          "execution_count": 29
        }
      ]
    },
    {
      "cell_type": "code",
      "metadata": {
        "id": "ZF-EF3KM7bjI",
        "colab_type": "code",
        "colab": {}
      },
      "source": [
        "from tensorflow import keras"
      ],
      "execution_count": 30,
      "outputs": []
    },
    {
      "cell_type": "code",
      "metadata": {
        "id": "7Vvu4P5P7ixh",
        "colab_type": "code",
        "colab": {}
      },
      "source": [
        "model = keras.Sequential()"
      ],
      "execution_count": 31,
      "outputs": []
    },
    {
      "cell_type": "code",
      "metadata": {
        "id": "EnkGiMHf7nIF",
        "colab_type": "code",
        "colab": {}
      },
      "source": [
        "model.add(LSTM(50,return_sequences=True,input_shape=(100,1)))"
      ],
      "execution_count": 32,
      "outputs": []
    },
    {
      "cell_type": "code",
      "metadata": {
        "id": "9SnR8B6m7ybj",
        "colab_type": "code",
        "colab": {
          "base_uri": "https://localhost:8080/",
          "height": 206
        },
        "outputId": "1f9b9d0e-16e8-49af-bd9a-60018ebc0b77"
      },
      "source": [
        "model.summary()"
      ],
      "execution_count": 33,
      "outputs": [
        {
          "output_type": "stream",
          "text": [
            "Model: \"sequential\"\n",
            "_________________________________________________________________\n",
            "Layer (type)                 Output Shape              Param #   \n",
            "=================================================================\n",
            "lstm (LSTM)                  (None, 100, 50)           10400     \n",
            "=================================================================\n",
            "Total params: 10,400\n",
            "Trainable params: 10,400\n",
            "Non-trainable params: 0\n",
            "_________________________________________________________________\n"
          ],
          "name": "stdout"
        }
      ]
    },
    {
      "cell_type": "code",
      "metadata": {
        "id": "KtzR52Wd70jC",
        "colab_type": "code",
        "colab": {}
      },
      "source": [
        "model.add(LSTM(50,return_sequences=True))"
      ],
      "execution_count": 34,
      "outputs": []
    },
    {
      "cell_type": "code",
      "metadata": {
        "id": "8yMQGhe-9e66",
        "colab_type": "code",
        "colab": {}
      },
      "source": [
        "model.add(LSTM(50))"
      ],
      "execution_count": 35,
      "outputs": []
    },
    {
      "cell_type": "code",
      "metadata": {
        "id": "oRSn7LyY9gwT",
        "colab_type": "code",
        "colab": {}
      },
      "source": [
        "model.add(Dense(1))"
      ],
      "execution_count": 36,
      "outputs": []
    },
    {
      "cell_type": "code",
      "metadata": {
        "id": "2fNzUqyE9iYE",
        "colab_type": "code",
        "colab": {
          "base_uri": "https://localhost:8080/",
          "height": 319
        },
        "outputId": "22b6e9a1-69ca-4fd0-cd24-3fd1bac455e4"
      },
      "source": [
        "model.summary()"
      ],
      "execution_count": 39,
      "outputs": [
        {
          "output_type": "stream",
          "text": [
            "Model: \"sequential\"\n",
            "_________________________________________________________________\n",
            "Layer (type)                 Output Shape              Param #   \n",
            "=================================================================\n",
            "lstm (LSTM)                  (None, 100, 50)           10400     \n",
            "_________________________________________________________________\n",
            "lstm_1 (LSTM)                (None, 100, 50)           20200     \n",
            "_________________________________________________________________\n",
            "lstm_2 (LSTM)                (None, 50)                20200     \n",
            "_________________________________________________________________\n",
            "dense (Dense)                (None, 1)                 51        \n",
            "=================================================================\n",
            "Total params: 50,851\n",
            "Trainable params: 50,851\n",
            "Non-trainable params: 0\n",
            "_________________________________________________________________\n"
          ],
          "name": "stdout"
        }
      ]
    },
    {
      "cell_type": "code",
      "metadata": {
        "id": "L5qnpC7xI_qK",
        "colab_type": "code",
        "colab": {}
      },
      "source": [
        ""
      ],
      "execution_count": null,
      "outputs": []
    }
  ]
}